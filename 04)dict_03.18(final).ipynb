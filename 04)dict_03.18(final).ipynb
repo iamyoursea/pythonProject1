{
 "cells": [
  {
   "cell_type": "markdown",
   "id": "77358395",
   "metadata": {},
   "source": [
    "### 딕셔너리란?  (dictionary)"
   ]
  },
  {
   "cell_type": "markdown",
   "id": "fb66881b",
   "metadata": {},
   "source": [
    "{key1:value1, key2:value2, key3:value3}"
   ]
  },
  {
   "cell_type": "markdown",
   "id": "5922ab37",
   "metadata": {},
   "source": [
    "|Key|value|\n",
    "|-----:|----:|\n",
    "|name|박영식|\n",
    "|phone|01012345678|\n",
    "|birth|1025|"
   ]
  },
  {
   "cell_type": "code",
   "execution_count": 1,
   "id": "9f0c270e",
   "metadata": {},
   "outputs": [],
   "source": [
    "dict1 = {'name':'박영식',\n",
    "        'phone':1012345678,\n",
    "        'birth':1025} # 이러한 대응 및 연관관계를 연관배열(Associative array) 혹은 해시(Hash)"
   ]
  },
  {
   "cell_type": "code",
   "execution_count": 3,
   "id": "4c643637",
   "metadata": {},
   "outputs": [
    {
     "data": {
      "text/plain": [
       "{'name': '박영식', 'phone': 1012345678, 'birth': 1025}"
      ]
     },
     "execution_count": 3,
     "metadata": {},
     "output_type": "execute_result"
    }
   ],
   "source": [
    "dict1"
   ]
  },
  {
   "cell_type": "markdown",
   "id": "c3279f6b",
   "metadata": {},
   "source": [
    "### 딕셔너리 쌍 추가, 삭제"
   ]
  },
  {
   "cell_type": "code",
   "execution_count": 15,
   "id": "5b9d8005",
   "metadata": {},
   "outputs": [
    {
     "data": {
      "text/plain": [
       "{1: 'a', 2: 'b', 'ysp': 'teacher'}"
      ]
     },
     "execution_count": 15,
     "metadata": {},
     "output_type": "execute_result"
    }
   ],
   "source": [
    "a = {1:'a'}\n",
    "a[2]='b'\n",
    "a['ysp']='teacher'\n",
    "a"
   ]
  },
  {
   "cell_type": "code",
   "execution_count": 16,
   "id": "f732e6aa",
   "metadata": {},
   "outputs": [
    {
     "data": {
      "text/plain": [
       "{1: 'a', 2: 'b'}"
      ]
     },
     "execution_count": 16,
     "metadata": {},
     "output_type": "execute_result"
    }
   ],
   "source": [
    "# 삭제\n",
    "del a['ysp'] # label based indexing(명칭기반 인덱싱)\n",
    "a"
   ]
  },
  {
   "cell_type": "markdown",
   "id": "a5586728",
   "metadata": {},
   "source": [
    "###  dict에서 key를 활용해 value 얻기"
   ]
  },
  {
   "cell_type": "code",
   "execution_count": 20,
   "id": "e170fcdb",
   "metadata": {},
   "outputs": [
    {
     "data": {
      "text/plain": [
       "56"
      ]
     },
     "execution_count": 20,
     "metadata": {},
     "output_type": "execute_result"
    }
   ],
   "source": [
    "grade = {'je':100,'jh':95,'yh':56}\n",
    "grade['yh']"
   ]
  },
  {
   "cell_type": "code",
   "execution_count": 26,
   "id": "da2e2dbf",
   "metadata": {},
   "outputs": [
    {
     "data": {
      "text/plain": [
       "{1: 'b'}"
      ]
     },
     "execution_count": 26,
     "metadata": {},
     "output_type": "execute_result"
    }
   ],
   "source": [
    "#  dict 생성시 주의사항-1\n",
    "dict_a = {1:'a',1:'b'} # overwrite이 됩니다 ^^\n",
    "dict_a"
   ]
  },
  {
   "cell_type": "code",
   "execution_count": 38,
   "id": "c33b6cbd",
   "metadata": {},
   "outputs": [
    {
     "data": {
      "text/plain": [
       "{(1, 2, 3): 'a'}"
      ]
     },
     "execution_count": 38,
     "metadata": {},
     "output_type": "execute_result"
    }
   ],
   "source": [
    "# #  dict 생성시 주의사항-2\n",
    "# dict_b = {[1,2,3]:'a',1:'b'} # overwrite이 됩니다 ^^\n",
    "# dict_b\n",
    "\n",
    "dict_c = {(1,2,3):'a'}\n",
    "dict_c\n",
    "\n",
    "# import pandas as pd\n",
    "# test_df = pd.DataFrame(dict_c)\n",
    "# test_df['ysp']= 1\n",
    "# test_df"
   ]
  },
  {
   "cell_type": "markdown",
   "id": "78bd0e78",
   "metadata": {},
   "source": [
    "### dict 관련 함수"
   ]
  },
  {
   "cell_type": "code",
   "execution_count": 44,
   "id": "b22432e8",
   "metadata": {},
   "outputs": [
    {
     "data": {
      "text/plain": [
       "['name', 'phone', 'birth']"
      ]
     },
     "execution_count": 44,
     "metadata": {},
     "output_type": "execute_result"
    }
   ],
   "source": [
    "# key 리스트 만들기\n",
    "dict1 = {'name':'여러분 이름','phone':'01012345678','birth':'1025'}\n",
    "list(dict1.keys())"
   ]
  },
  {
   "cell_type": "code",
   "execution_count": 46,
   "id": "6c611981",
   "metadata": {},
   "outputs": [
    {
     "name": "stdout",
     "output_type": "stream",
     "text": [
      "name\n",
      "phone\n",
      "birth\n"
     ]
    },
    {
     "data": {
      "text/plain": [
       "['name', 'phone', 'birth', [4]]"
      ]
     },
     "execution_count": 46,
     "metadata": {},
     "output_type": "execute_result"
    }
   ],
   "source": [
    "# 얘는 되어요 ^^\n",
    "for i in dict1.keys():\n",
    "    print(i)\n",
    "    \n",
    "# append insert pop remove sort (X)\n",
    "keys_dict1 = dict1.keys()\n",
    "keys_l1=list(keys_dict1)\n",
    "keys_l1.append([4])\n",
    "keys_l1"
   ]
  },
  {
   "cell_type": "code",
   "execution_count": 56,
   "id": "4aea157c",
   "metadata": {},
   "outputs": [
    {
     "data": {
      "text/plain": [
       "['여러분 이름', '01012345678', '1025', '레오나르도']"
      ]
     },
     "execution_count": 56,
     "metadata": {},
     "output_type": "execute_result"
    }
   ],
   "source": [
    "# value 리스트 만들기\n",
    "dict1 = {'name':'여러분 이름','phone':'01012345678','birth':'1025','내꿈':'레오나르도'}\n",
    "list(dict1.values())"
   ]
  },
  {
   "cell_type": "code",
   "execution_count": 57,
   "id": "beb9cb45",
   "metadata": {},
   "outputs": [
    {
     "data": {
      "text/plain": [
       "[('name', '여러분 이름'),\n",
       " ('phone', '01012345678'),\n",
       " ('birth', '1025'),\n",
       " ('내꿈', '레오나르도')]"
      ]
     },
     "execution_count": 57,
     "metadata": {},
     "output_type": "execute_result"
    }
   ],
   "source": [
    "# key, value 쌍 얻기(items)\n",
    "list(dict1.items())"
   ]
  },
  {
   "cell_type": "code",
   "execution_count": 61,
   "id": "7085e9b9",
   "metadata": {},
   "outputs": [
    {
     "data": {
      "text/plain": [
       "{}"
      ]
     },
     "execution_count": 61,
     "metadata": {},
     "output_type": "execute_result"
    }
   ],
   "source": [
    "# key, value 쌍 모두 지우기(clear)\n",
    "dict1.clear()\n",
    "dict1"
   ]
  },
  {
   "cell_type": "code",
   "execution_count": 68,
   "id": "292b037d",
   "metadata": {},
   "outputs": [
    {
     "data": {
      "text/plain": [
       "'쌤: 잭블랙'"
      ]
     },
     "execution_count": 68,
     "metadata": {},
     "output_type": "execute_result"
    }
   ],
   "source": [
    "# key로 value얻기(get)\n",
    "dict1 = {'name':'여러분 이름','phone':'01012345678','birth':'1025','내꿈':'레오나르도'}\n",
    "dict1.get('디카프리오','쌤: 잭블랙')"
   ]
  },
  {
   "cell_type": "code",
   "execution_count": 66,
   "id": "65bb3d64",
   "metadata": {},
   "outputs": [
    {
     "ename": "KeyError",
     "evalue": "'디카프리오'",
     "output_type": "error",
     "traceback": [
      "\u001b[1;31m---------------------------------------------------------------------------\u001b[0m",
      "\u001b[1;31mKeyError\u001b[0m                                  Traceback (most recent call last)",
      "\u001b[1;32m~\\AppData\\Local\\Temp/ipykernel_1128/3909128762.py\u001b[0m in \u001b[0;36m<module>\u001b[1;34m\u001b[0m\n\u001b[1;32m----> 1\u001b[1;33m \u001b[0mdict1\u001b[0m\u001b[1;33m[\u001b[0m\u001b[1;34m'디카프리오'\u001b[0m\u001b[1;33m]\u001b[0m\u001b[1;33m\u001b[0m\u001b[1;33m\u001b[0m\u001b[0m\n\u001b[0m",
      "\u001b[1;31mKeyError\u001b[0m: '디카프리오'"
     ]
    }
   ],
   "source": [
    "dict1['디카프리오']"
   ]
  }
 ],
 "metadata": {
  "kernelspec": {
   "display_name": "Python 3 (ipykernel)",
   "language": "python",
   "name": "python3"
  },
  "language_info": {
   "codemirror_mode": {
    "name": "ipython",
    "version": 3
   },
   "file_extension": ".py",
   "mimetype": "text/x-python",
   "name": "python",
   "nbconvert_exporter": "python",
   "pygments_lexer": "ipython3",
   "version": "3.8.12"
  }
 },
 "nbformat": 4,
 "nbformat_minor": 5
}
