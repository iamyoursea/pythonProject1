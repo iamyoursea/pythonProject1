{
 "cells": [
  {
   "cell_type": "markdown",
   "id": "fddd9799",
   "metadata": {},
   "source": [
    "Q1\n",
    "홍길동 씨의 과목별 점수는 다음과 같다. 홍길동 씨의 평균 점수를 구해 보자."
   ]
  },
  {
   "attachments": {
    "image.png": {
     "image/png": "[encoded data removed]"
    }
   },
   "cell_type": "markdown",
   "id": "fadca18e",
   "metadata": {},
   "source": [
    "![image.png](attachment:image.png) "
   ]
  },
  {
   "cell_type": "code",
   "execution_count": 13,
   "id": "ae5d3ca0",
   "metadata": {},
   "outputs": [
    {
     "data": {
      "text/plain": [
       "70.0"
      ]
     },
     "execution_count": 13,
     "metadata": {},
     "output_type": "execute_result"
    }
   ],
   "source": [
    "# Answer\n",
    "\n",
    "a=80\n",
    "b=75\n",
    "c=55\n",
    "\n",
    "(a+b+c)/3"
   ]
  },
  {
   "cell_type": "markdown",
   "id": "dd87b132",
   "metadata": {},
   "source": [
    "Q2 홍길동 씨의 주민등록번호는 881120-1068234이다. 홍길동 씨의 주민등록번호를 연월일(YYYYMMDD) 부분과 그 뒤의 숫자 부분으로 나누어 출력해 보자. * 슬라이싱을 적용하는 연습"
   ]
  },
  {
   "cell_type": "code",
   "execution_count": 12,
   "id": "60c7de13",
   "metadata": {},
   "outputs": [
    {
     "name": "stdout",
     "output_type": "stream",
     "text": [
      "881120\n",
      "1068234\n"
     ]
    }
   ],
   "source": [
    "pin = \"881120-1068234\"\n",
    "\n",
    "# Answer\n",
    "yyyymmdd = pin [:6]\n",
    "num = pin[7:]\n",
    "print(yyyymmdd)\n",
    "print(num)"
   ]
  },
  {
   "cell_type": "code",
   "execution_count": null,
   "id": "ecd9c760",
   "metadata": {},
   "outputs": [],
   "source": []
  },
  {
   "cell_type": "markdown",
   "id": "98823a3d",
   "metadata": {},
   "source": [
    "Q3.주민등록번호 뒷자리의 맨 첫 번째 숫자는 성별을 나타낸다. 주민등록번호에서 성별을 나타내는 숫자를 출력해 보자."
   ]
  },
  {
   "cell_type": "code",
   "execution_count": 1,
   "id": "60abe661",
   "metadata": {},
   "outputs": [],
   "source": [
    "pin='901120-1068234'"
   ]
  },
  {
   "cell_type": "code",
   "execution_count": 8,
   "id": "df0ee2dc",
   "metadata": {},
   "outputs": [
    {
     "name": "stdout",
     "output_type": "stream",
     "text": [
      "1\n"
     ]
    }
   ],
   "source": [
    "# Answer\n",
    "print(pin[7])"
   ]
  },
  {
   "cell_type": "markdown",
   "id": "1a1108b8",
   "metadata": {},
   "source": [
    "Q4. 다음과 같은 문자열 a:b:c:d가 있다. 문자열의 replace 함수를 사용하여 a#b#c#d로 바꿔서 출력해 보자."
   ]
  },
  {
   "cell_type": "code",
   "execution_count": 11,
   "id": "8e2fc1a5",
   "metadata": {},
   "outputs": [
    {
     "name": "stdout",
     "output_type": "stream",
     "text": [
      "a#b#c#d\n"
     ]
    }
   ],
   "source": [
    "# Answer\n",
    "a = \"a:b:c:d\"\n",
    "answer = a.replace(\":\",\"#\")\n",
    "print(answer)"
   ]
  },
  {
   "cell_type": "markdown",
   "id": "7191bb18",
   "metadata": {},
   "source": [
    "Q5. [1,3,2,4,6,5]리스트를 [6,5,4,3,2,1]로 만들어보기"
   ]
  },
  {
   "cell_type": "code",
   "execution_count": 17,
   "id": "fcefc589",
   "metadata": {},
   "outputs": [
    {
     "name": "stdout",
     "output_type": "stream",
     "text": [
      "[6, 5, 4, 3, 2, 1]\n"
     ]
    }
   ],
   "source": [
    "# Answer\n",
    "a= [1,3,2,4,6,5]\n",
    "a.sort()\n",
    "a.reverse()\n",
    "print(a)"
   ]
  },
  {
   "cell_type": "markdown",
   "id": "a31f06cb",
   "metadata": {},
   "source": [
    "Q6. ['Life','is','too','short']의 리스트를 합쳐서 하나의 객쳐로 출력해보자 (문자열의 join함수를 사용할 것!!!) "
   ]
  },
  {
   "cell_type": "code",
   "execution_count": null,
   "id": "482a43ce",
   "metadata": {},
   "outputs": [],
   "source": [
    "a = ['Life','is','too','short']\n",
    "result = \" \".join(a)\n"
   ]
  }
 ],
 "metadata": {
  "kernelspec": {
   "display_name": "Python 3 (ipykernel)",
   "language": "python",
   "name": "python3"
  },
  "language_info": {
   "codemirror_mode": {
    "name": "ipython",
    "version": 3
   },
   "file_extension": ".py",
   "mimetype": "text/x-python",
   "name": "python",
   "nbconvert_exporter": "python",
   "pygments_lexer": "ipython3",
   "version": "3.8.12"
  }
 },
 "nbformat": 4,
 "nbformat_minor": 5
}
