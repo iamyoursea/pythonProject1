{
 "cells": [
  {
   "cell_type": "code",
   "execution_count": 4,
   "id": "6daa5053",
   "metadata": {},
   "outputs": [],
   "source": [
    "# 1~9까지의 데이터 생성 ndarray\n",
    "import numpy as np"
   ]
  },
  {
   "cell_type": "code",
   "execution_count": 5,
   "id": "7a0111f6",
   "metadata": {},
   "outputs": [
    {
     "data": {
      "text/plain": [
       "7"
      ]
     },
     "execution_count": 5,
     "metadata": {},
     "output_type": "execute_result"
    }
   ],
   "source": [
    "# 특정데이터 연습\n",
    "sq_array = np.arange(1,10)\n",
    "sq_array[6]"
   ]
  },
  {
   "cell_type": "code",
   "execution_count": 9,
   "id": "bdca71cc",
   "metadata": {},
   "outputs": [
    {
     "name": "stdout",
     "output_type": "stream",
     "text": [
      "[1 2 3]\n",
      "[4 5 6 7 8 9]\n",
      "[1 2 3 4 5 6 7 8 9]\n"
     ]
    }
   ],
   "source": [
    "# 슬라이싱\n",
    "print(sq_array[:3])\n",
    "print(sq_array[3:])\n",
    "print(sq_array[:])"
   ]
  },
  {
   "cell_type": "code",
   "execution_count": 16,
   "id": "544e04f2",
   "metadata": {},
   "outputs": [
    {
     "name": "stdout",
     "output_type": "stream",
     "text": [
      "sq_array의 차원은:1\n",
      "sq_array의 형태는:(9,)\n",
      "\n",
      " [[1 2 3]\n",
      " [4 5 6]\n",
      " [7 8 9]]\n"
     ]
    }
   ],
   "source": [
    "# 2차원 데이터에서의 fancy indexing\n",
    "print('sq_array의 차원은:{0}'.format(sq_array.ndim))\n",
    "print('sq_array의 형태는:{0}'.format(sq_array.shape))\n",
    "\n",
    "sq_array2d = sq_array.reshape(3,3)\n",
    "print('\\n',sq_array2d)"
   ]
  },
  {
   "cell_type": "code",
   "execution_count": 41,
   "id": "069ef0ff",
   "metadata": {},
   "outputs": [
    {
     "name": "stdout",
     "output_type": "stream",
     "text": [
      "[6 7 8 9]\n"
     ]
    },
    {
     "data": {
      "text/plain": [
       "array([6, 7, 8, 9])"
      ]
     },
     "execution_count": 41,
     "metadata": {},
     "output_type": "execute_result"
    }
   ],
   "source": [
    "## 2차원에서의 특정값 추출\n",
    "# print('row=1, col=0 index의 값은: {0}'.format(sq_array2d[1,0]))\n",
    "# print('row=1, col=2 index의 값은: {0}'.format(sq_array2d[1,2]))\n",
    "\n",
    "## 2차원에서의 슬라이싱\n",
    "# print('\\narray2d:\\n',sq_array2d[0:2,0:2])\n",
    "# print('\\narray2d:\\n',sq_array2d[0:2,1])\n",
    "# print('\\narray2d:\\n',sq_array2d[0:2,1:2])\n",
    "\n",
    "## 2차원에서의 팬시 인덱싱(fancy indexing)\n",
    "# 이중 리스트의 형태로 이루어진 인덱싱\n",
    "\n",
    "# print('원본 행렬:\\n',sq_array2d)\n",
    "# print('array2d[[0,1],2]=>',sq_array2d[[0,1],2],'\\n') # 출력된 형태가 1차원\n",
    "# print('array2d[[0,1],2]=>\\n',sq_array2d[[0,1],2:],'\\n') # 출력된 형태가 2차원\n",
    "\n",
    "## boolean indexing\n",
    "array1d = np.arange(start=1,stop=10)\n",
    "#[]안에 boolean indexing을 적용\n",
    "print(array1d[array1d>5])\n",
    "array1d[np.array([False, False, False, False, False,  True,  True,  True,  True])]"
   ]
  },
  {
   "cell_type": "markdown",
   "id": "35ce5db7",
   "metadata": {},
   "source": [
    "### 행렬의 정렬 - sort()와 argsort()"
   ]
  },
  {
   "cell_type": "code",
   "execution_count": 43,
   "id": "f505663c",
   "metadata": {},
   "outputs": [
    {
     "name": "stdout",
     "output_type": "stream",
     "text": [
      "원본 행렬: [6, 8, 2, 4]\n",
      "np.sort()호출 후 반환된 원본: [6, 8, 2, 4]\n",
      "np.sort()호출 후 정렬된 행렬: [2 4 6 8]\n",
      "array.sort()호출 후 반환된 원본: [2, 4, 6, 8]\n",
      "array.sort()호출 후 정렬된 행렬: None\n"
     ]
    }
   ],
   "source": [
    "org_array=[6,8,2,4]\n",
    "print('원본 행렬:', org_array)\n",
    "\n",
    "#np.sort()로 정렬\n",
    "sorted_array1 = np.sort(org_array)\n",
    "print('np.sort()호출 후 반환된 원본:', org_array) # 원본은 안바뀜\n",
    "print('np.sort()호출 후 정렬된 행렬:', sorted_array1) # 새로운 변수로 정의됨\n",
    "\n",
    "#array.sort()로 정렬\n",
    "sorted_array2 = org_array.sort()\n",
    "print('array.sort()호출 후 반환된 원본:', org_array) # 원본이 바뀜\n",
    "print('array.sort()호출 후 정렬된 행렬:', sorted_array2) # 새로운 변수는 None"
   ]
  },
  {
   "cell_type": "code",
   "execution_count": 46,
   "id": "a4d2c1e6",
   "metadata": {},
   "outputs": [
    {
     "data": {
      "text/plain": [
       "array([8, 6, 4, 2])"
      ]
     },
     "execution_count": 46,
     "metadata": {},
     "output_type": "execute_result"
    }
   ],
   "source": [
    "sort_array1_desc = np.sort(org_array)[::-1]\n",
    "print('내림차순 정렬:',sort)"
   ]
  },
  {
   "cell_type": "code",
   "execution_count": 7,
   "outputs": [
    {
     "name": "stdout",
     "output_type": "stream",
     "text": [
      "row방향 정렬\n"
     ]
    }
   ],
   "source": [
    "array2d = np.array([[8,12],\n",
    "                    [7,11]])\n",
    "print('row방향 정렬' )\n",
    "sorted_array=np.sort(array2d, axis=0)"
   ],
   "metadata": {
    "collapsed": false,
    "pycharm": {
     "name": "#%%\n"
    }
   }
  },
  {
   "cell_type": "code",
   "execution_count": 5,
   "outputs": [
    {
     "name": "stdout",
     "output_type": "stream",
     "text": [
      "<class 'numpy.ndarray'>\n",
      "오름차순 정렬된 행렬의 인덱스: [1 0 3 2]\n"
     ]
    }
   ],
   "source": [
    "# arg_sort()함수 :: 정렬된 행렬의 인덱스 반환!\n",
    "org_array = np.array([3,1,9,5])\n",
    "sort_indices = np.argsort(org_array) # 1,3,5,9 == R에서의 order함수와 같다\n",
    "print(type(sort_indices))\n",
    "print('오름차순 정렬된 행렬의 인덱스:',sort_indices)"
   ],
   "metadata": {
    "collapsed": false,
    "pycharm": {
     "name": "#%%\n"
    }
   }
  },
  {
   "cell_type": "code",
   "execution_count": 6,
   "outputs": [
    {
     "name": "stdout",
     "output_type": "stream",
     "text": [
      "<class 'numpy.ndarray'>\n",
      "내림차순 정렬된 행렬의 인덱스: [2 3 0 1]\n"
     ]
    }
   ],
   "source": [
    "# 내림차순을 원할때\n",
    "org_array = np.array([3,1,9,5])\n",
    "sort_indices1 = np.argsort(org_array)[::-1]\n",
    "print(type(sort_indices1))\n",
    "print('내림차순 정렬된 행렬의 인덱스:',sort_indices1)"
   ],
   "metadata": {
    "collapsed": false,
    "pycharm": {
     "name": "#%%\n"
    }
   }
  },
  {
   "cell_type": "code",
   "execution_count": 8,
   "outputs": [
    {
     "name": "stdout",
     "output_type": "stream",
     "text": [
      "A의 shape: (2, 3)\n",
      "B의 shape: (3, 2)\n"
     ]
    }
   ],
   "source": [
    "# 행렬의 내적을 위한 함수 dot\n",
    "A = np.array([[1,2,3],\n",
    "              [4,5,6]])\n",
    "B = np.array([[7,8],\n",
    "              [9,10],\n",
    "              [11,12]])\n",
    "\n",
    "print('A의 shape:', A.shape)\n",
    "print('B의 shape:', B.shape)"
   ],
   "metadata": {
    "collapsed": false,
    "pycharm": {
     "name": "#%%\n"
    }
   }
  }
 ],
 "metadata": {
  "kernelspec": {
   "display_name": "Python 3 (ipykernel)",
   "language": "python",
   "name": "python3"
  },
  "language_info": {
   "codemirror_mode": {
    "name": "ipython",
    "version": 3
   },
   "file_extension": ".py",
   "mimetype": "text/x-python",
   "name": "python",
   "nbconvert_exporter": "python",
   "pygments_lexer": "ipython3",
   "version": "3.8.12"
  }
 },
 "nbformat": 4,
 "nbformat_minor": 5
}