{
 "cells": [
  {
   "cell_type": "code",
   "execution_count": 120,
   "id": "44e0052d",
   "metadata": {},
   "outputs": [],
   "source": [
    "# 만약 본 파일에서 연습시 자동저장을 해지하고 싶을때\n",
    "# %autosave 0 "
   ]
  },
  {
   "cell_type": "markdown",
   "id": "0fe51bbb",
   "metadata": {},
   "source": [
    "## 정수형"
   ]
  },
  {
   "cell_type": "code",
   "execution_count": 1,
   "id": "6849a12a",
   "metadata": {},
   "outputs": [],
   "source": [
    "a=123\n",
    "a=-178\n",
    "a=0"
   ]
  },
  {
   "cell_type": "code",
   "execution_count": 2,
   "id": "4756efbb",
   "metadata": {},
   "outputs": [
    {
     "data": {
      "text/plain": [
       "0"
      ]
     },
     "execution_count": 2,
     "metadata": {},
     "output_type": "execute_result"
    }
   ],
   "source": [
    "a"
   ]
  },
  {
   "cell_type": "code",
   "execution_count": 3,
   "id": "0bbf3149",
   "metadata": {},
   "outputs": [
    {
     "name": "stdout",
     "output_type": "stream",
     "text": [
      "0\n"
     ]
    }
   ],
   "source": [
    "print(a)"
   ]
  },
  {
   "cell_type": "markdown",
   "id": "25718e0a",
   "metadata": {},
   "source": [
    "## 실수형"
   ]
  },
  {
   "cell_type": "code",
   "execution_count": 4,
   "id": "fc2b505a",
   "metadata": {},
   "outputs": [],
   "source": [
    "b= 1.2\n",
    "c= 1.414"
   ]
  },
  {
   "cell_type": "code",
   "execution_count": 5,
   "id": "91e73c2e",
   "metadata": {},
   "outputs": [],
   "source": [
    "b= 4.24E10\n",
    "c= 4.24e-10"
   ]
  },
  {
   "cell_type": "code",
   "execution_count": 6,
   "id": "3beeb802",
   "metadata": {},
   "outputs": [
    {
     "name": "stdout",
     "output_type": "stream",
     "text": [
      "4.24e-10\n"
     ]
    }
   ],
   "source": [
    "print(c)"
   ]
  },
  {
   "cell_type": "markdown",
   "id": "52ba5a22",
   "metadata": {},
   "source": [
    "### 숫자형을 활용한 연산자"
   ]
  },
  {
   "cell_type": "code",
   "execution_count": 7,
   "id": "a77a3f61",
   "metadata": {},
   "outputs": [
    {
     "name": "stdout",
     "output_type": "stream",
     "text": [
      "7\n",
      "12\n"
     ]
    },
    {
     "data": {
      "text/plain": [
       "0.75"
      ]
     },
     "execution_count": 7,
     "metadata": {},
     "output_type": "execute_result"
    }
   ],
   "source": [
    "a=3\n",
    "b=4\n",
    "print(a+b)\n",
    "\n",
    "print(a*b)\n",
    "\n",
    "a/b\n"
   ]
  },
  {
   "cell_type": "markdown",
   "id": "95a85c70",
   "metadata": {},
   "source": [
    "### x와 y의 제곱을 나타내는 **연산자"
   ]
  },
  {
   "cell_type": "code",
   "execution_count": 8,
   "id": "6a7de32b",
   "metadata": {},
   "outputs": [
    {
     "data": {
      "text/plain": [
       "81"
      ]
     },
     "execution_count": 8,
     "metadata": {},
     "output_type": "execute_result"
    }
   ],
   "source": [
    "a**b"
   ]
  },
  {
   "cell_type": "markdown",
   "id": "e969a922",
   "metadata": {},
   "source": [
    "### 나머지를 반환하는 %연산자"
   ]
  },
  {
   "cell_type": "code",
   "execution_count": 9,
   "id": "1a3f0704",
   "metadata": {},
   "outputs": [
    {
     "data": {
      "text/plain": [
       "1"
      ]
     },
     "execution_count": 9,
     "metadata": {},
     "output_type": "execute_result"
    }
   ],
   "source": [
    "7%3"
   ]
  },
  {
   "cell_type": "markdown",
   "id": "f60290e8",
   "metadata": {},
   "source": [
    "### 몫을 반환하는 //연산자"
   ]
  },
  {
   "cell_type": "code",
   "execution_count": 10,
   "id": "ba651a24",
   "metadata": {},
   "outputs": [
    {
     "data": {
      "text/plain": [
       "1.75"
      ]
     },
     "execution_count": 10,
     "metadata": {},
     "output_type": "execute_result"
    }
   ],
   "source": [
    "7/4"
   ]
  },
  {
   "cell_type": "code",
   "execution_count": 11,
   "id": "ad716720",
   "metadata": {},
   "outputs": [
    {
     "data": {
      "text/plain": [
       "1"
      ]
     },
     "execution_count": 11,
     "metadata": {},
     "output_type": "execute_result"
    }
   ],
   "source": [
    "7//4"
   ]
  },
  {
   "cell_type": "markdown",
   "id": "b005ce47",
   "metadata": {},
   "source": [
    "## 01)-2 문자열"
   ]
  },
  {
   "cell_type": "code",
   "execution_count": 12,
   "id": "4ab19743",
   "metadata": {},
   "outputs": [
    {
     "data": {
      "text/plain": [
       "'123'"
      ]
     },
     "execution_count": 12,
     "metadata": {},
     "output_type": "execute_result"
    }
   ],
   "source": [
    "'Life is too short, You need python'\n",
    "'a'\n",
    "'123'"
   ]
  },
  {
   "cell_type": "markdown",
   "id": "6a2bf59a",
   "metadata": {},
   "source": [
    "### 문자열을 만드는 방법 4가지"
   ]
  },
  {
   "cell_type": "code",
   "execution_count": 13,
   "id": "98d26bed",
   "metadata": {},
   "outputs": [
    {
     "data": {
      "text/plain": [
       "'Hello world'"
      ]
     },
     "execution_count": 13,
     "metadata": {},
     "output_type": "execute_result"
    }
   ],
   "source": [
    "\"Hello world\" # 큰따옴표로 만들기"
   ]
  },
  {
   "cell_type": "code",
   "execution_count": 14,
   "id": "81ee0b1b",
   "metadata": {},
   "outputs": [
    {
     "data": {
      "text/plain": [
       "'python is good'"
      ]
     },
     "execution_count": 14,
     "metadata": {},
     "output_type": "execute_result"
    }
   ],
   "source": [
    "'python is good' # 작은따옴표"
   ]
  },
  {
   "cell_type": "code",
   "execution_count": 15,
   "id": "8bbf7d60",
   "metadata": {},
   "outputs": [
    {
     "data": {
      "text/plain": [
       "'Life is too short, you need python'"
      ]
     },
     "execution_count": 15,
     "metadata": {},
     "output_type": "execute_result"
    }
   ],
   "source": [
    "\"\"\"Life is too short, you need python\"\"\" # 큰따옴표 3개"
   ]
  },
  {
   "cell_type": "code",
   "execution_count": 16,
   "id": "288d9640",
   "metadata": {},
   "outputs": [
    {
     "data": {
      "text/plain": [
       "'Life is too short, you need python'"
      ]
     },
     "execution_count": 16,
     "metadata": {},
     "output_type": "execute_result"
    }
   ],
   "source": [
    "'''Life is too short, you need python''' #작은따옴표 3개"
   ]
  },
  {
   "cell_type": "markdown",
   "id": "b9e2ac24",
   "metadata": {},
   "source": [
    "### 문자열 만들기가 4가지나 필요한 이유:: \n",
    "    * 문자열 안에 따옴표를 포함시키고 싶을때"
   ]
  },
  {
   "cell_type": "code",
   "execution_count": 23,
   "id": "bec573ff",
   "metadata": {},
   "outputs": [
    {
     "ename": "SyntaxError",
     "evalue": "invalid syntax (Temp/ipykernel_10456/1967396498.py, line 5)",
     "output_type": "error",
     "traceback": [
      "\u001b[1;36m  File \u001b[1;32m\"C:\\Users\\user\\AppData\\Local\\Temp/ipykernel_10456/1967396498.py\"\u001b[1;36m, line \u001b[1;32m5\u001b[0m\n\u001b[1;33m    'python's favorite food is perl'\u001b[0m\n\u001b[1;37m            ^\u001b[0m\n\u001b[1;31mSyntaxError\u001b[0m\u001b[1;31m:\u001b[0m invalid syntax\n"
     ]
    }
   ],
   "source": [
    "# 문자열 안에 작은 따옴표를 포함시키고 싶을때\n",
    "# 큰 따옴표로 감싼다\n",
    "\n",
    "'python`s favorite food is perl'\n",
    "'python's favorite food is perl' \n",
    "\"python's favorite food is perl\""
   ]
  },
  {
   "cell_type": "code",
   "execution_count": 18,
   "id": "8adf7e76",
   "metadata": {},
   "outputs": [
    {
     "data": {
      "text/plain": [
       "'\"python is very easy\".he says'"
      ]
     },
     "execution_count": 18,
     "metadata": {},
     "output_type": "execute_result"
    }
   ],
   "source": [
    "# 문자열 안에 큰 따옴표를 포함시키고 싶을때\n",
    "# 작은 따옴표로 감싼다\n",
    "\n",
    "'\"python is very easy\".he says'"
   ]
  },
  {
   "cell_type": "markdown",
   "id": "18af62db",
   "metadata": {},
   "source": [
    "### 여러 줄인 문자열을 변수에 대입하고 싶을 때"
   ]
  },
  {
   "cell_type": "code",
   "execution_count": 19,
   "id": "c92e028c",
   "metadata": {},
   "outputs": [
    {
     "name": "stdout",
     "output_type": "stream",
     "text": [
      "Life is too short \n",
      " you need python\n"
     ]
    },
    {
     "data": {
      "text/plain": [
       "'Life is too short \\n you need python'"
      ]
     },
     "execution_count": 19,
     "metadata": {},
     "output_type": "execute_result"
    }
   ],
   "source": [
    "multi_line = \"Life is too short \\n you need python\" # \\n이라고 하는 이스케이프 코드 입력\n",
    "print(multi_line)\n",
    "\n",
    "multi_line"
   ]
  },
  {
   "cell_type": "code",
   "execution_count": 20,
   "id": "a32bf50d",
   "metadata": {},
   "outputs": [
    {
     "name": "stdout",
     "output_type": "stream",
     "text": [
      "Life is too short\n",
      "you need python\n"
     ]
    }
   ],
   "source": [
    "# 작은따옴표 3개를 사용\n",
    "multiline1 = '''Life is too short\n",
    "you need python'''\n",
    "\n",
    "print(multiline1)"
   ]
  },
  {
   "cell_type": "code",
   "execution_count": 21,
   "id": "e7133668",
   "metadata": {},
   "outputs": [
    {
     "name": "stdout",
     "output_type": "stream",
     "text": [
      "Life is too short\n",
      "you need python\n"
     ]
    }
   ],
   "source": [
    "# 큰따옴표 3개를 사용\n",
    "multiline1 = \"\"\"Life is too short\n",
    "you need python\"\"\"\n",
    "\n",
    "print(multiline1)"
   ]
  },
  {
   "attachments": {
    "image.png": {
     "image/png": "[encoded data removed]"
    }
   },
   "cell_type": "markdown",
   "id": "a0ce5b9b",
   "metadata": {},
   "source": [
    "![image.png](attachment:image.png) "
   ]
  },
  {
   "cell_type": "markdown",
   "id": "50c39fc1",
   "metadata": {},
   "source": [
    "## 문자열 연산"
   ]
  },
  {
   "cell_type": "markdown",
   "id": "957d23c7",
   "metadata": {},
   "source": [
    "### 문자열 연결(concatenation)"
   ]
  },
  {
   "cell_type": "code",
   "execution_count": 26,
   "id": "d13c9f28",
   "metadata": {},
   "outputs": [
    {
     "data": {
      "text/plain": [
       "'Life is too short'"
      ]
     },
     "execution_count": 26,
     "metadata": {},
     "output_type": "execute_result"
    }
   ],
   "source": [
    "head = 'Life is '\n",
    "tail = 'too short'\n",
    "head+tail"
   ]
  },
  {
   "cell_type": "code",
   "execution_count": 28,
   "id": "75306553",
   "metadata": {},
   "outputs": [
    {
     "data": {
      "text/plain": [
       "'python python python '"
      ]
     },
     "execution_count": 28,
     "metadata": {},
     "output_type": "execute_result"
    }
   ],
   "source": [
    "# 문자열의 곱\n",
    "a = 'python '\n",
    "a*3"
   ]
  },
  {
   "cell_type": "code",
   "execution_count": 31,
   "id": "ddc45a84",
   "metadata": {},
   "outputs": [
    {
     "name": "stdout",
     "output_type": "stream",
     "text": [
      "==================================================\n",
      "22.03.17.program\n",
      "==================================================\n"
     ]
    }
   ],
   "source": [
    "# 문자열의 곱 응용\n",
    "print('='*50)\n",
    "print('22.03.17.program')\n",
    "print('='*50)"
   ]
  },
  {
   "cell_type": "markdown",
   "id": "4414cc41",
   "metadata": {},
   "source": [
    "## 문자열의 길이"
   ]
  },
  {
   "cell_type": "code",
   "execution_count": 32,
   "id": "bb6836e9",
   "metadata": {},
   "outputs": [
    {
     "data": {
      "text/plain": [
       "17"
      ]
     },
     "execution_count": 32,
     "metadata": {},
     "output_type": "execute_result"
    }
   ],
   "source": [
    "a='Life is too short'\n",
    "len(a)"
   ]
  },
  {
   "cell_type": "markdown",
   "id": "44dfc807",
   "metadata": {},
   "source": [
    "## 문자열 인덱싱과 슬라이싱"
   ]
  },
  {
   "cell_type": "code",
   "execution_count": 47,
   "id": "2442e0f6",
   "metadata": {},
   "outputs": [
    {
     "data": {
      "text/plain": [
       "'n'"
      ]
     },
     "execution_count": 47,
     "metadata": {},
     "output_type": "execute_result"
    }
   ],
   "source": [
    "a = 'Life is too short you need python'\n",
    "a[0]\n",
    "a[12]\n",
    "a[len(a)-1] # = a[-1]"
   ]
  },
  {
   "cell_type": "markdown",
   "id": "32b9696e",
   "metadata": {},
   "source": [
    "#### 문자열 슬라이싱~"
   ]
  },
  {
   "cell_type": "code",
   "execution_count": 51,
   "id": "7159b48f",
   "metadata": {},
   "outputs": [
    {
     "name": "stdout",
     "output_type": "stream",
     "text": [
      "L i f e\n"
     ]
    },
    {
     "data": {
      "text/plain": [
       "'Life'"
      ]
     },
     "execution_count": 51,
     "metadata": {},
     "output_type": "execute_result"
    }
   ],
   "source": [
    "print(a[0],a[1],a[2],a[3])\n",
    "\n",
    "b = a[0]+a[1]+a[2]+a[3]\n",
    "b"
   ]
  },
  {
   "cell_type": "code",
   "execution_count": 52,
   "id": "0a94b8e3",
   "metadata": {},
   "outputs": [
    {
     "data": {
      "text/plain": [
       "'Life'"
      ]
     },
     "execution_count": 52,
     "metadata": {},
     "output_type": "execute_result"
    }
   ],
   "source": [
    "c= a[0:4] #slicing \n",
    "c"
   ]
  },
  {
   "cell_type": "code",
   "execution_count": 55,
   "id": "4d6146de",
   "metadata": {},
   "outputs": [
    {
     "data": {
      "text/plain": [
       "'sunny'"
      ]
     },
     "execution_count": 55,
     "metadata": {},
     "output_type": "execute_result"
    }
   ],
   "source": [
    "a = \"20220317sunny\"\n",
    "date = a[:8]\n",
    "weather = a[8:]\n",
    "weather"
   ]
  },
  {
   "cell_type": "code",
   "execution_count": 57,
   "id": "aabd6fd8",
   "metadata": {},
   "outputs": [
    {
     "name": "stdout",
     "output_type": "stream",
     "text": [
      "2022 0317 sunny\n"
     ]
    }
   ],
   "source": [
    "a = \"20220317sunny\"\n",
    "year = a[:4]\n",
    "day = a[4:8]\n",
    "weather = a[8:]\n",
    "\n",
    "print(year,day,weather)"
   ]
  },
  {
   "cell_type": "code",
   "execution_count": 67,
   "id": "eedd6961",
   "metadata": {},
   "outputs": [
    {
     "name": "stdout",
     "output_type": "stream",
     "text": [
      "python\n"
     ]
    }
   ],
   "source": [
    "# 'pithon'은 문자를 적었음 \n",
    "# 위의 pithon을 python으로 어떻게 바꿀수 있을까???\n",
    "\n",
    "x= 'pithon'\n",
    "x[1]\n",
    "# x[1]='y' Error가 뜸\n",
    "\n",
    "result=x[:1]+'y'+x[2:]\n",
    "print(result)"
   ]
  },
  {
   "cell_type": "markdown",
   "id": "12839cd3",
   "metadata": {},
   "source": [
    "## 문자열 포매팅"
   ]
  },
  {
   "cell_type": "markdown",
   "id": "311d12c0",
   "metadata": {},
   "source": [
    "\"현재 온도는 18도입니다.\" "
   ]
  },
  {
   "cell_type": "markdown",
   "id": "ab7cdbe0",
   "metadata": {},
   "source": [
    "\"현재 온도는 9도입니다.\" "
   ]
  },
  {
   "cell_type": "markdown",
   "id": "fd7e3eed",
   "metadata": {},
   "source": [
    "### 문자열 포매팅 학습"
   ]
  },
  {
   "cell_type": "code",
   "execution_count": 72,
   "id": "bae40c71",
   "metadata": {},
   "outputs": [
    {
     "data": {
      "text/plain": [
       "'I eat 3 pythons'"
      ]
     },
     "execution_count": 72,
     "metadata": {},
     "output_type": "execute_result"
    }
   ],
   "source": [
    "# 1. 숫자 바로 대입 # 많이 쓰임\n",
    "\"I eat %d pythons\" % 3 # decimal의 준말"
   ]
  },
  {
   "cell_type": "code",
   "execution_count": 73,
   "id": "08393920",
   "metadata": {},
   "outputs": [
    {
     "data": {
      "text/plain": [
       "'I eat three pythons'"
      ]
     },
     "execution_count": 73,
     "metadata": {},
     "output_type": "execute_result"
    }
   ],
   "source": [
    "# 2. 문자열 바로 대입 # 많이 쓰임\n",
    "\"I eat %s pythons\" % 'three' # string의 준말"
   ]
  },
  {
   "cell_type": "code",
   "execution_count": 80,
   "id": "c1ecb274",
   "metadata": {},
   "outputs": [
    {
     "ename": "TypeError",
     "evalue": "%d format: a number is required, not str",
     "output_type": "error",
     "traceback": [
      "\u001b[1;31m---------------------------------------------------------------------------\u001b[0m",
      "\u001b[1;31mTypeError\u001b[0m                                 Traceback (most recent call last)",
      "\u001b[1;32m~\\AppData\\Local\\Temp/ipykernel_10456/3710568.py\u001b[0m in \u001b[0;36m<module>\u001b[1;34m\u001b[0m\n\u001b[0;32m      5\u001b[0m \u001b[1;31m# 3. 변수에 넣어서 대입-1\u001b[0m\u001b[1;33m\u001b[0m\u001b[1;33m\u001b[0m\u001b[1;33m\u001b[0m\u001b[0m\n\u001b[0;32m      6\u001b[0m \u001b[0mnumber\u001b[0m \u001b[1;33m=\u001b[0m \u001b[1;34m'five'\u001b[0m\u001b[1;33m\u001b[0m\u001b[1;33m\u001b[0m\u001b[0m\n\u001b[1;32m----> 7\u001b[1;33m \u001b[1;34m\"I eat %d pythons\"\u001b[0m \u001b[1;33m%\u001b[0m \u001b[0mnumber\u001b[0m\u001b[1;33m\u001b[0m\u001b[1;33m\u001b[0m\u001b[0m\n\u001b[0m",
      "\u001b[1;31mTypeError\u001b[0m: %d format: a number is required, not str"
     ]
    }
   ],
   "source": [
    "# 많이 쓰임\n",
    "# 3. 변수에 넣어서 대입\n",
    "number = 'five'\n",
    "\"I eat %s pythons\" % number \n",
    "\n",
    "# 3. 변수에 넣어서 대입-1\n",
    "number = 'five'\n",
    "\"I eat %d pythons\" % number "
   ]
  },
  {
   "cell_type": "code",
   "execution_count": 81,
   "id": "ddc834fd",
   "metadata": {},
   "outputs": [
    {
     "data": {
      "text/plain": [
       "'I ate 10 apples. so I was sick for three days.'"
      ]
     },
     "execution_count": 81,
     "metadata": {},
     "output_type": "execute_result"
    }
   ],
   "source": [
    "# 4. 2개 이상의 값을 넣기\n",
    "number = 10\n",
    "day = 'three'\n",
    "\n",
    "\"I ate %d apples. so I was sick for %s days.\" % (number, day)"
   ]
  },
  {
   "attachments": {
    "image.png": {
     "image/png": "[encoded data removed]"
    }
   },
   "cell_type": "markdown",
   "id": "b8e3e477",
   "metadata": {},
   "source": [
    "![image.png](attachment:image.png) "
   ]
  },
  {
   "cell_type": "code",
   "execution_count": 84,
   "id": "c8ec7868",
   "metadata": {},
   "outputs": [
    {
     "data": {
      "text/plain": [
       "'Accuracy is 98%'"
      ]
     },
     "execution_count": 84,
     "metadata": {},
     "output_type": "execute_result"
    }
   ],
   "source": [
    "# 위의 예를 적용\n",
    "\"I have %s apples\" % 3\n",
    "\n",
    "# %의 용례 # 조금 쓰임\n",
    "'Accuracy is %s%%' % 98"
   ]
  },
  {
   "cell_type": "markdown",
   "id": "348dff8e",
   "metadata": {},
   "source": [
    "### 포맷코드의 숫자와 함께 활용"
   ]
  },
  {
   "cell_type": "markdown",
   "id": "29140590",
   "metadata": {},
   "source": [
    "#### 1. 정렬과 공백"
   ]
  },
  {
   "cell_type": "code",
   "execution_count": 90,
   "id": "2c1e2dec",
   "metadata": {},
   "outputs": [
    {
     "data": {
      "text/plain": [
       "'        hi'"
      ]
     },
     "execution_count": 90,
     "metadata": {},
     "output_type": "execute_result"
    }
   ],
   "source": [
    "# soso\n",
    "'%10s' % 'hi'"
   ]
  },
  {
   "cell_type": "code",
   "execution_count": 96,
   "id": "97499abc",
   "metadata": {},
   "outputs": [
    {
     "data": {
      "text/plain": [
       "'hi        Jane'"
      ]
     },
     "execution_count": 96,
     "metadata": {},
     "output_type": "execute_result"
    }
   ],
   "source": [
    "# 응용 soso\n",
    "'%-10sJane' % 'hi'"
   ]
  },
  {
   "cell_type": "markdown",
   "id": "9300af2d",
   "metadata": {},
   "source": [
    "#### 2. 소수점 표현하기"
   ]
  },
  {
   "cell_type": "code",
   "execution_count": 103,
   "id": "0fe7c901",
   "metadata": {},
   "outputs": [
    {
     "data": {
      "text/plain": [
       "'3.1416'"
      ]
     },
     "execution_count": 103,
     "metadata": {},
     "output_type": "execute_result"
    }
   ],
   "source": [
    "# 많이 쓰임\n",
    "'%0.4f'% 3.14159213"
   ]
  },
  {
   "cell_type": "code",
   "execution_count": 104,
   "id": "b66929fe",
   "metadata": {},
   "outputs": [
    {
     "data": {
      "text/plain": [
       "'    3.1416'"
      ]
     },
     "execution_count": 104,
     "metadata": {},
     "output_type": "execute_result"
    }
   ],
   "source": [
    "'%10.4f'% 3.14159213"
   ]
  },
  {
   "cell_type": "markdown",
   "id": "75a21832",
   "metadata": {},
   "source": [
    "### format 함수를 사용한 포매팅"
   ]
  },
  {
   "cell_type": "code",
   "execution_count": 109,
   "id": "3f6e16f8",
   "metadata": {},
   "outputs": [
    {
     "name": "stdout",
     "output_type": "stream",
     "text": [
      "I eat 3 apples\n",
      "I eat 3 apples\n"
     ]
    }
   ],
   "source": [
    "# 숫자를 바로 대입하기\n",
    "print(\"I eat %d apples\" % 3)\n",
    "print(\"I eat {0} apples\".format(3))"
   ]
  },
  {
   "cell_type": "code",
   "execution_count": 110,
   "id": "29e58321",
   "metadata": {},
   "outputs": [
    {
     "data": {
      "text/plain": [
       "'I eat five apples'"
      ]
     },
     "execution_count": 110,
     "metadata": {},
     "output_type": "execute_result"
    }
   ],
   "source": [
    "# 문자를 바로 대입하기\n",
    "\"I eat {0} apples\".format('five')"
   ]
  },
  {
   "cell_type": "code",
   "execution_count": 112,
   "id": "fd9df441",
   "metadata": {},
   "outputs": [
    {
     "data": {
      "text/plain": [
       "'I eat 100 apples'"
      ]
     },
     "execution_count": 112,
     "metadata": {},
     "output_type": "execute_result"
    }
   ],
   "source": [
    "# 변수에 할당된 값을 대입하기\n",
    "number = 100\n",
    "\"I eat {0} apples\".format(number)"
   ]
  },
  {
   "cell_type": "code",
   "execution_count": 113,
   "id": "4da26749",
   "metadata": {},
   "outputs": [
    {
     "data": {
      "text/plain": [
       "'I ate 10 apples. so I was sick for seven days'"
      ]
     },
     "execution_count": 113,
     "metadata": {},
     "output_type": "execute_result"
    }
   ],
   "source": [
    "# 2개 이상의 값을 넣기\n",
    "numeric_1 = 10\n",
    "day = 'seven'\n",
    "\"I ate {0} apples. so I was sick for {1} days\".format(numeric_1,day)"
   ]
  },
  {
   "cell_type": "code",
   "execution_count": 114,
   "id": "1fa90dc4",
   "metadata": {},
   "outputs": [
    {
     "data": {
      "text/plain": [
       "'I ate 5 apples. so I was sick for 10 days'"
      ]
     },
     "execution_count": 114,
     "metadata": {},
     "output_type": "execute_result"
    }
   ],
   "source": [
    "# 2개 이상의 값을 넣기- 숫자와 변수명을 혼용\n",
    "\"I ate {0} apples. so I was sick for {date} days\".format(5,date=10)"
   ]
  },
  {
   "cell_type": "markdown",
   "id": "783221d7",
   "metadata": {},
   "source": [
    "### 문자열을 포매팅 함수를 통해 정렬"
   ]
  },
  {
   "cell_type": "markdown",
   "id": "fa7d2c61",
   "metadata": {},
   "source": [
    "#### 오른쪽 정렬"
   ]
  },
  {
   "cell_type": "code",
   "execution_count": 128,
   "id": "c675ad7f",
   "metadata": {},
   "outputs": [
    {
     "data": {
      "text/plain": [
       "'        hi'"
      ]
     },
     "execution_count": 128,
     "metadata": {},
     "output_type": "execute_result"
    }
   ],
   "source": [
    "'%10s' % 'hi'\n",
    "'{0:>10}'.format('hi')"
   ]
  },
  {
   "cell_type": "markdown",
   "id": "9f2019fc",
   "metadata": {},
   "source": [
    "#### 왼쪽 정렬"
   ]
  },
  {
   "cell_type": "code",
   "execution_count": 131,
   "id": "471bd403",
   "metadata": {},
   "outputs": [
    {
     "data": {
      "text/plain": [
       "'hi        '"
      ]
     },
     "execution_count": 131,
     "metadata": {},
     "output_type": "execute_result"
    }
   ],
   "source": [
    "'{0:<10}'.format('hi')\n",
    "'%-10s'% 'hi'"
   ]
  },
  {
   "cell_type": "markdown",
   "id": "89e0a747",
   "metadata": {},
   "source": [
    "#### 가운데 정렬"
   ]
  },
  {
   "cell_type": "code",
   "execution_count": 132,
   "id": "70245200",
   "metadata": {},
   "outputs": [
    {
     "data": {
      "text/plain": [
       "'    hi    '"
      ]
     },
     "execution_count": 132,
     "metadata": {},
     "output_type": "execute_result"
    }
   ],
   "source": [
    "\"{0:^10}\".format('hi')"
   ]
  },
  {
   "cell_type": "markdown",
   "id": "ce8b3bde",
   "metadata": {},
   "source": [
    "#### 공백 채우기 "
   ]
  },
  {
   "cell_type": "code",
   "execution_count": 134,
   "id": "57c5bb40",
   "metadata": {},
   "outputs": [
    {
     "name": "stdout",
     "output_type": "stream",
     "text": [
      "========== my program ==========\n"
     ]
    }
   ],
   "source": [
    "print('='*10,'my program','='*10)"
   ]
  },
  {
   "cell_type": "code",
   "execution_count": 137,
   "id": "f238c4cf",
   "metadata": {},
   "outputs": [
    {
     "data": {
      "text/plain": [
       "'====hi===='"
      ]
     },
     "execution_count": 137,
     "metadata": {},
     "output_type": "execute_result"
    }
   ],
   "source": [
    "\"{0:=^10}\".format('hi')"
   ]
  },
  {
   "cell_type": "code",
   "execution_count": 142,
   "id": "59a18388",
   "metadata": {},
   "outputs": [
    {
     "data": {
      "text/plain": [
       "'님 나 아심????'"
      ]
     },
     "execution_count": 142,
     "metadata": {},
     "output_type": "execute_result"
    }
   ],
   "source": [
    "\"{0:!<10}\".format('hi')\n",
    "\"{0:?<10}\".format('님 나 아심')"
   ]
  },
  {
   "cell_type": "markdown",
   "id": "43be5acb",
   "metadata": {},
   "source": [
    "#### 소수점 표현하기"
   ]
  },
  {
   "cell_type": "code",
   "execution_count": 146,
   "id": "10142ea4",
   "metadata": {},
   "outputs": [
    {
     "data": {
      "text/plain": [
       "'3.1416'"
      ]
     },
     "execution_count": 146,
     "metadata": {},
     "output_type": "execute_result"
    }
   ],
   "source": [
    "y = 3.141592123456789\n",
    "'{0:0.4f}'.format(y)\n",
    "'{0:.4f}'.format(y)"
   ]
  },
  {
   "cell_type": "code",
   "execution_count": 148,
   "id": "b0ab4f8c",
   "metadata": {},
   "outputs": [
    {
     "data": {
      "text/plain": [
       "'    3.1416'"
      ]
     },
     "execution_count": 148,
     "metadata": {},
     "output_type": "execute_result"
    }
   ],
   "source": [
    "'{0:10.4f}'.format(y)"
   ]
  },
  {
   "cell_type": "markdown",
   "id": "b41e8f1b",
   "metadata": {},
   "source": [
    "### f 문자열 포매팅"
   ]
  },
  {
   "cell_type": "code",
   "execution_count": 152,
   "id": "14614808",
   "metadata": {},
   "outputs": [
    {
     "data": {
      "text/plain": [
       "'내 이름은 박영식입니다. 나이는 100입니다'"
      ]
     },
     "execution_count": 152,
     "metadata": {},
     "output_type": "execute_result"
    }
   ],
   "source": [
    "name='박영식'\n",
    "age = 100 \n",
    "f'내 이름은 {name}입니다. 나이는 {age}입니다'"
   ]
  },
  {
   "cell_type": "code",
   "execution_count": 154,
   "id": "6803cb17",
   "metadata": {},
   "outputs": [
    {
     "data": {
      "text/plain": [
       "'나는 내년이면 21세가 된다.'"
      ]
     },
     "execution_count": 154,
     "metadata": {},
     "output_type": "execute_result"
    }
   ],
   "source": [
    "age= 20\n",
    "f'나는 내년이면 {age+1}세가 된다.'"
   ]
  },
  {
   "cell_type": "code",
   "execution_count": 160,
   "id": "49fa862b",
   "metadata": {},
   "outputs": [
    {
     "name": "stdout",
     "output_type": "stream",
     "text": [
      "박영식 100\n"
     ]
    },
    {
     "data": {
      "text/plain": [
       "'제 이름은 박영식이고, 제 나이는100입니다.'"
      ]
     },
     "execution_count": 160,
     "metadata": {},
     "output_type": "execute_result"
    }
   ],
   "source": [
    "# 딕셔너리를 아는 분들은 이렇게도 f포매팅이 가능함\n",
    "d = {'name':'박영식','age':100}\n",
    "print(d['name'], d['age'])\n",
    "f'제 이름은 {d[\"name\"]}이고, 제 나이는{d[\"age\"]}입니다.'"
   ]
  },
  {
   "cell_type": "markdown",
   "id": "cc19f7fb",
   "metadata": {},
   "source": [
    "### f 포매팅을 통한 정렬 방법"
   ]
  },
  {
   "cell_type": "code",
   "execution_count": 163,
   "id": "f9ab4d77",
   "metadata": {},
   "outputs": [
    {
     "data": {
      "text/plain": [
       "'    hi    '"
      ]
     },
     "execution_count": 163,
     "metadata": {},
     "output_type": "execute_result"
    }
   ],
   "source": [
    "f'{\"hi\":<10}' # 왼쪽정렬\n",
    "f'{\"hi\":>10}' # 오른쪽정렬\n",
    "f'{\"hi\":^10}' # 가운데정렬"
   ]
  },
  {
   "cell_type": "code",
   "execution_count": 167,
   "id": "a7d6ecbf",
   "metadata": {},
   "outputs": [
    {
     "data": {
      "text/plain": [
       "'hi!!!!!!!!'"
      ]
     },
     "execution_count": 167,
     "metadata": {},
     "output_type": "execute_result"
    }
   ],
   "source": [
    "f'{\"hi\":=^10}' # 가운데 정렬 후 공백\n",
    "f'{\"hi\":!<10}' # 가운데 정렬 후 공백"
   ]
  },
  {
   "cell_type": "code",
   "execution_count": 173,
   "id": "bc5ffdcc",
   "metadata": {},
   "outputs": [
    {
     "data": {
      "text/plain": [
       "'     1.414'"
      ]
     },
     "execution_count": 173,
     "metadata": {},
     "output_type": "execute_result"
    }
   ],
   "source": [
    "y = 1.414123456789\n",
    "f'{y:0.3f}' # 소수점 3자리까지 표현\n",
    "f'{y:10.3f}'# 총 10자리에서 오른쪽으로 정렬시킴 "
   ]
  },
  {
   "cell_type": "markdown",
   "id": "0041ead9",
   "metadata": {},
   "source": [
    "## 문자열 관련 함수들\n",
    "    * 내장함수들 살펴보기"
   ]
  },
  {
   "cell_type": "code",
   "execution_count": 176,
   "id": "7ac77efd",
   "metadata": {},
   "outputs": [
    {
     "data": {
      "text/plain": [
       "2"
      ]
     },
     "execution_count": 176,
     "metadata": {},
     "output_type": "execute_result"
    }
   ],
   "source": [
    "# 문자 개수 세기(count함수)\n",
    "a= 'hobby'\n",
    "a.count('b')"
   ]
  },
  {
   "cell_type": "code",
   "execution_count": 181,
   "id": "b3a1513b",
   "metadata": {},
   "outputs": [
    {
     "data": {
      "text/plain": [
       "-1"
      ]
     },
     "execution_count": 181,
     "metadata": {},
     "output_type": "execute_result"
    }
   ],
   "source": [
    "# 위치 알려주는 함수(find)\n",
    "a = 'python is very easy'\n",
    "a.find('i')\n",
    "a.find('u')\n",
    "\n",
    "# 처음 'i'가 나온 값을 반환하며\n",
    "# 없는 값이 있다면 -1을 반환"
   ]
  },
  {
   "cell_type": "code",
   "execution_count": 188,
   "id": "c3598a8c",
   "metadata": {},
   "outputs": [
    {
     "ename": "ValueError",
     "evalue": "substring not found",
     "output_type": "error",
     "traceback": [
      "\u001b[1;31m---------------------------------------------------------------------------\u001b[0m",
      "\u001b[1;31mValueError\u001b[0m                                Traceback (most recent call last)",
      "\u001b[1;32m~\\AppData\\Local\\Temp/ipykernel_10456/3580681473.py\u001b[0m in \u001b[0;36m<module>\u001b[1;34m\u001b[0m\n\u001b[0;32m      2\u001b[0m \u001b[0ma\u001b[0m\u001b[1;33m\u001b[0m\u001b[1;33m\u001b[0m\u001b[0m\n\u001b[0;32m      3\u001b[0m \u001b[0ma\u001b[0m\u001b[1;33m.\u001b[0m\u001b[0mindex\u001b[0m\u001b[1;33m(\u001b[0m\u001b[1;34m's'\u001b[0m\u001b[1;33m)\u001b[0m\u001b[1;33m\u001b[0m\u001b[1;33m\u001b[0m\u001b[0m\n\u001b[1;32m----> 4\u001b[1;33m \u001b[0ma\u001b[0m\u001b[1;33m.\u001b[0m\u001b[0mindex\u001b[0m\u001b[1;33m(\u001b[0m\u001b[1;34m'u'\u001b[0m\u001b[1;33m)\u001b[0m\u001b[1;33m\u001b[0m\u001b[1;33m\u001b[0m\u001b[0m\n\u001b[0m",
      "\u001b[1;31mValueError\u001b[0m: substring not found"
     ]
    }
   ],
   "source": [
    "# 위치 알려주는 함수(index)\n",
    "a\n",
    "a.index('s')\n",
    "a.index('u')"
   ]
  },
  {
   "cell_type": "code",
   "execution_count": 191,
   "id": "b2b18a5f",
   "metadata": {},
   "outputs": [
    {
     "data": {
      "text/plain": [
       "'ysp,yhk,jhk,esj,smk'"
      ]
     },
     "execution_count": 191,
     "metadata": {},
     "output_type": "execute_result"
    }
   ],
   "source": [
    "#문자열 삽입(join) * 먼저 기억하기\n",
    "','.join('ysp')\n",
    "','.join(['ysp','yhk','jhk','esj','smk'])"
   ]
  },
  {
   "cell_type": "code",
   "execution_count": 199,
   "id": "bde9da4b",
   "metadata": {},
   "outputs": [
    {
     "data": {
      "text/plain": [
       "'k-digital'"
      ]
     },
     "execution_count": 199,
     "metadata": {},
     "output_type": "execute_result"
    }
   ],
   "source": [
    "# 소문자를 대문자로 바꾸기 (upper)\n",
    "a='ysp'\n",
    "upper_a = a.upper()\n",
    "upper_a\n",
    "\n",
    "# 대문자를 소문자로 바꾸기(lower)\n",
    "A = 'K-DIGITAL'\n",
    "lower_A = A.lower()\n",
    "lower_A"
   ]
  },
  {
   "cell_type": "code",
   "execution_count": 203,
   "id": "859148f1",
   "metadata": {},
   "outputs": [
    {
     "data": {
      "text/plain": [
       "'hi'"
      ]
     },
     "execution_count": 203,
     "metadata": {},
     "output_type": "execute_result"
    }
   ],
   "source": [
    "# 왼쪽 공백 지우기(lstrip)\n",
    "a= '  hi  '\n",
    "a.lstrip()\n",
    "\n",
    "# 오른쪽 공백 지우기(rstrip)\n",
    "a= '  hi  '\n",
    "a.rstrip()\n",
    "\n",
    "# 양쪽 공백 지우기(strip)\n",
    "a.strip()"
   ]
  },
  {
   "cell_type": "code",
   "execution_count": 204,
   "id": "94b1ec74",
   "metadata": {},
   "outputs": [
    {
     "data": {
      "text/plain": [
       "'your leg is too short'"
      ]
     },
     "execution_count": 204,
     "metadata": {},
     "output_type": "execute_result"
    }
   ],
   "source": [
    "# 문자열 바꾸기(replace)\n",
    "a = 'Life is too short'\n",
    "a.replace('Life','your leg')"
   ]
  },
  {
   "cell_type": "code",
   "execution_count": 209,
   "id": "a076146b",
   "metadata": {},
   "outputs": [
    {
     "data": {
      "text/plain": [
       "['y', 's', 'p y', 'h', 'k e', 's', 'j']"
      ]
     },
     "execution_count": 209,
     "metadata": {},
     "output_type": "execute_result"
    }
   ],
   "source": [
    "# 문자열 나누기/쪼개기 (split)\n",
    "a = 'Life is too short'\n",
    "a.split()\n",
    "\n",
    "b= 'y,s,p y,h,k e,s,j'\n",
    "b.split(',')"
   ]
  },
  {
   "cell_type": "code",
   "execution_count": null,
   "id": "c1729ff6",
   "metadata": {},
   "outputs": [],
   "source": []
  }
 ],
 "metadata": {
  "kernelspec": {
   "display_name": "Python 3 (ipykernel)",
   "language": "python",
   "name": "python3"
  },
  "language_info": {
   "codemirror_mode": {
    "name": "ipython",
    "version": 3
   },
   "file_extension": ".py",
   "mimetype": "text/x-python",
   "name": "python",
   "nbconvert_exporter": "python",
   "pygments_lexer": "ipython3",
   "version": "3.8.12"
  }
 },
 "nbformat": 4,
 "nbformat_minor": 5
}
