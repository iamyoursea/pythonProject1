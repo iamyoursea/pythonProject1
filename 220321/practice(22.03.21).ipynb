{
 "cells": [
  {
   "cell_type": "code",
   "execution_count": 2,
   "outputs": [],
   "source": [
    "import pandas as pd"
   ],
   "metadata": {
    "collapsed": false,
    "pycharm": {
     "name": "#%%\n"
    }
   }
  },
  {
   "cell_type": "code",
   "execution_count": 1,
   "id": "d8c20307",
   "metadata": {},
   "outputs": [],
   "source": [
    "# q1. 데이터를 로드하라. 데이터 \\t을 기준으로 구분되어 있음"
   ]
  },
  {
   "cell_type": "code",
   "execution_count": 4,
   "id": "89cf9c88",
   "metadata": {},
   "outputs": [],
   "source": [
    "lol_dt = pd.read_csv('games.csv')"
   ]
  },
  {
   "cell_type": "code",
   "execution_count": 2,
   "id": "c49e2e2a",
   "metadata": {},
   "outputs": [],
   "source": [
    "# q2. 데이터의 상위 5개 행을 출력하라."
   ]
  },
  {
   "cell_type": "code",
   "execution_count": 5,
   "id": "95890be1",
   "metadata": {},
   "outputs": [
    {
     "data": {
      "text/plain": "       gameId   creationTime  gameDuration  seasonId  winner  firstBlood  \\\n0  3326086514  1504279457970          1949         9       1           2   \n1  3229566029  1497848803862          1851         9       1           1   \n2  3327363504  1504360103310          1493         9       1           2   \n3  3326856598  1504348503996          1758         9       1           1   \n4  3330080762  1504554410899          2094         9       1           2   \n\n   firstTower  firstInhibitor  firstBaron  firstDragon  ...  t2_towerKills  \\\n0           1               1           1            1  ...              5   \n1           1               1           0            1  ...              2   \n2           1               1           1            2  ...              2   \n3           1               1           1            1  ...              0   \n4           1               1           1            1  ...              3   \n\n   t2_inhibitorKills  t2_baronKills  t2_dragonKills  t2_riftHeraldKills  \\\n0                  0              0               1                   1   \n1                  0              0               0                   0   \n2                  0              0               1                   0   \n3                  0              0               0                   0   \n4                  0              0               1                   0   \n\n   t2_ban1  t2_ban2  t2_ban3  t2_ban4  t2_ban5  \n0      114       67       43       16       51  \n1       11       67      238       51      420  \n2      157      238      121       57       28  \n3      164       18      141       40       51  \n4       86       11      201      122       18  \n\n[5 rows x 61 columns]",
      "text/html": "<div>\n<style scoped>\n    .dataframe tbody tr th:only-of-type {\n        vertical-align: middle;\n    }\n\n    .dataframe tbody tr th {\n        vertical-align: top;\n    }\n\n    .dataframe thead th {\n        text-align: right;\n    }\n</style>\n<table border=\"1\" class=\"dataframe\">\n  <thead>\n    <tr style=\"text-align: right;\">\n      <th></th>\n      <th>gameId</th>\n      <th>creationTime</th>\n      <th>gameDuration</th>\n      <th>seasonId</th>\n      <th>winner</th>\n      <th>firstBlood</th>\n      <th>firstTower</th>\n      <th>firstInhibitor</th>\n      <th>firstBaron</th>\n      <th>firstDragon</th>\n      <th>...</th>\n      <th>t2_towerKills</th>\n      <th>t2_inhibitorKills</th>\n      <th>t2_baronKills</th>\n      <th>t2_dragonKills</th>\n      <th>t2_riftHeraldKills</th>\n      <th>t2_ban1</th>\n      <th>t2_ban2</th>\n      <th>t2_ban3</th>\n      <th>t2_ban4</th>\n      <th>t2_ban5</th>\n    </tr>\n  </thead>\n  <tbody>\n    <tr>\n      <th>0</th>\n      <td>3326086514</td>\n      <td>1504279457970</td>\n      <td>1949</td>\n      <td>9</td>\n      <td>1</td>\n      <td>2</td>\n      <td>1</td>\n      <td>1</td>\n      <td>1</td>\n      <td>1</td>\n      <td>...</td>\n      <td>5</td>\n      <td>0</td>\n      <td>0</td>\n      <td>1</td>\n      <td>1</td>\n      <td>114</td>\n      <td>67</td>\n      <td>43</td>\n      <td>16</td>\n      <td>51</td>\n    </tr>\n    <tr>\n      <th>1</th>\n      <td>3229566029</td>\n      <td>1497848803862</td>\n      <td>1851</td>\n      <td>9</td>\n      <td>1</td>\n      <td>1</td>\n      <td>1</td>\n      <td>1</td>\n      <td>0</td>\n      <td>1</td>\n      <td>...</td>\n      <td>2</td>\n      <td>0</td>\n      <td>0</td>\n      <td>0</td>\n      <td>0</td>\n      <td>11</td>\n      <td>67</td>\n      <td>238</td>\n      <td>51</td>\n      <td>420</td>\n    </tr>\n    <tr>\n      <th>2</th>\n      <td>3327363504</td>\n      <td>1504360103310</td>\n      <td>1493</td>\n      <td>9</td>\n      <td>1</td>\n      <td>2</td>\n      <td>1</td>\n      <td>1</td>\n      <td>1</td>\n      <td>2</td>\n      <td>...</td>\n      <td>2</td>\n      <td>0</td>\n      <td>0</td>\n      <td>1</td>\n      <td>0</td>\n      <td>157</td>\n      <td>238</td>\n      <td>121</td>\n      <td>57</td>\n      <td>28</td>\n    </tr>\n    <tr>\n      <th>3</th>\n      <td>3326856598</td>\n      <td>1504348503996</td>\n      <td>1758</td>\n      <td>9</td>\n      <td>1</td>\n      <td>1</td>\n      <td>1</td>\n      <td>1</td>\n      <td>1</td>\n      <td>1</td>\n      <td>...</td>\n      <td>0</td>\n      <td>0</td>\n      <td>0</td>\n      <td>0</td>\n      <td>0</td>\n      <td>164</td>\n      <td>18</td>\n      <td>141</td>\n      <td>40</td>\n      <td>51</td>\n    </tr>\n    <tr>\n      <th>4</th>\n      <td>3330080762</td>\n      <td>1504554410899</td>\n      <td>2094</td>\n      <td>9</td>\n      <td>1</td>\n      <td>2</td>\n      <td>1</td>\n      <td>1</td>\n      <td>1</td>\n      <td>1</td>\n      <td>...</td>\n      <td>3</td>\n      <td>0</td>\n      <td>0</td>\n      <td>1</td>\n      <td>0</td>\n      <td>86</td>\n      <td>11</td>\n      <td>201</td>\n      <td>122</td>\n      <td>18</td>\n    </tr>\n  </tbody>\n</table>\n<p>5 rows × 61 columns</p>\n</div>"
     },
     "execution_count": 5,
     "metadata": {},
     "output_type": "execute_result"
    }
   ],
   "source": [
    "lol_dt.head(5)"
   ]
  },
  {
   "cell_type": "code",
   "execution_count": 3,
   "id": "8eaa8028",
   "metadata": {},
   "outputs": [],
   "source": [
    "# q3. 데이터의 행과 열의 갯수를 구해보세요."
   ]
  },
  {
   "cell_type": "code",
   "execution_count": 28,
   "id": "ea7d819c",
   "metadata": {},
   "outputs": [
    {
     "data": {
      "text/plain": "(51490, 61)"
     },
     "execution_count": 28,
     "metadata": {},
     "output_type": "execute_result"
    }
   ],
   "source": [
    "lol_dt.shape"
   ]
  },
  {
   "cell_type": "code",
   "execution_count": 4,
   "id": "0f48c804",
   "metadata": {},
   "outputs": [],
   "source": [
    "# q4. 전체 컬럼을 출력하세요"
   ]
  },
  {
   "cell_type": "code",
   "execution_count": 23,
   "id": "7b03496f",
   "metadata": {},
   "outputs": [
    {
     "data": {
      "text/plain": "Index(['gameId', 'creationTime', 'gameDuration', 'seasonId', 'winner',\n       'firstBlood', 'firstTower', 'firstInhibitor', 'firstBaron',\n       'firstDragon', 'firstRiftHerald', 't1_champ1id', 't1_champ1_sum1',\n       't1_champ1_sum2', 't1_champ2id', 't1_champ2_sum1', 't1_champ2_sum2',\n       't1_champ3id', 't1_champ3_sum1', 't1_champ3_sum2', 't1_champ4id',\n       't1_champ4_sum1', 't1_champ4_sum2', 't1_champ5id', 't1_champ5_sum1',\n       't1_champ5_sum2', 't1_towerKills', 't1_inhibitorKills', 't1_baronKills',\n       't1_dragonKills', 't1_riftHeraldKills', 't1_ban1', 't1_ban2', 't1_ban3',\n       't1_ban4', 't1_ban5', 't2_champ1id', 't2_champ1_sum1', 't2_champ1_sum2',\n       't2_champ2id', 't2_champ2_sum1', 't2_champ2_sum2', 't2_champ3id',\n       't2_champ3_sum1', 't2_champ3_sum2', 't2_champ4id', 't2_champ4_sum1',\n       't2_champ4_sum2', 't2_champ5id', 't2_champ5_sum1', 't2_champ5_sum2',\n       't2_towerKills', 't2_inhibitorKills', 't2_baronKills', 't2_dragonKills',\n       't2_riftHeraldKills', 't2_ban1', 't2_ban2', 't2_ban3', 't2_ban4',\n       't2_ban5'],\n      dtype='object')"
     },
     "execution_count": 23,
     "metadata": {},
     "output_type": "execute_result"
    }
   ],
   "source": [
    "lol_dt.columns"
   ]
  },
  {
   "cell_type": "code",
   "execution_count": 5,
   "id": "1076cbde",
   "metadata": {},
   "outputs": [],
   "source": [
    "# q5. 7번째 컬럼명을 출력하세요."
   ]
  },
  {
   "cell_type": "code",
   "execution_count": 13,
   "id": "ebab884f",
   "metadata": {},
   "outputs": [
    {
     "data": {
      "text/plain": "'firstInhibitor'"
     },
     "execution_count": 13,
     "metadata": {},
     "output_type": "execute_result"
    }
   ],
   "source": [
    "lol_dt.columns[7]"
   ]
  },
  {
   "cell_type": "code",
   "execution_count": 6,
   "id": "f4835bd9",
   "metadata": {},
   "outputs": [],
   "source": [
    "# q6. 6번째 컬럼의 데이터 타입을 확인해보세요."
   ]
  },
  {
   "cell_type": "code",
   "execution_count": null,
   "id": "4e4d3e12",
   "metadata": {},
   "outputs": [],
   "source": []
  },
  {
   "cell_type": "code",
   "execution_count": 7,
   "id": "9b80f2a6",
   "metadata": {},
   "outputs": [],
   "source": [
    "# q7. 데이터 셋의 인덱스 구성을 확인해보세요."
   ]
  },
  {
   "cell_type": "code",
   "execution_count": null,
   "id": "b0083381",
   "metadata": {},
   "outputs": [],
   "source": []
  },
  {
   "cell_type": "code",
   "execution_count": 8,
   "id": "cb4b411c",
   "metadata": {},
   "outputs": [],
   "source": [
    "# q8. 6번째 컬럼의 3번째 값은 무엇일까요?"
   ]
  },
  {
   "cell_type": "code",
   "execution_count": 27,
   "id": "4808bf8c",
   "metadata": {},
   "outputs": [
    {
     "ename": "KeyError",
     "evalue": "\"None of [Int64Index([6, 3], dtype='int64')] are in the [columns]\"",
     "output_type": "error",
     "traceback": [
      "\u001B[1;31m---------------------------------------------------------------------------\u001B[0m",
      "\u001B[1;31mKeyError\u001B[0m                                  Traceback (most recent call last)",
      "Input \u001B[1;32mIn [27]\u001B[0m, in \u001B[0;36m<cell line: 1>\u001B[1;34m()\u001B[0m\n\u001B[1;32m----> 1\u001B[0m \u001B[43mlol_dt\u001B[49m\u001B[43m[\u001B[49m\u001B[43m[\u001B[49m\u001B[38;5;241;43m6\u001B[39;49m\u001B[43m,\u001B[49m\u001B[38;5;241;43m3\u001B[39;49m\u001B[43m]\u001B[49m\u001B[43m]\u001B[49m\n",
      "File \u001B[1;32mD:\\anaconda3\\envs\\pythonProject1\\lib\\site-packages\\pandas\\core\\frame.py:3511\u001B[0m, in \u001B[0;36mDataFrame.__getitem__\u001B[1;34m(self, key)\u001B[0m\n\u001B[0;32m   3509\u001B[0m     \u001B[38;5;28;01mif\u001B[39;00m is_iterator(key):\n\u001B[0;32m   3510\u001B[0m         key \u001B[38;5;241m=\u001B[39m \u001B[38;5;28mlist\u001B[39m(key)\n\u001B[1;32m-> 3511\u001B[0m     indexer \u001B[38;5;241m=\u001B[39m \u001B[38;5;28;43mself\u001B[39;49m\u001B[38;5;241;43m.\u001B[39;49m\u001B[43mcolumns\u001B[49m\u001B[38;5;241;43m.\u001B[39;49m\u001B[43m_get_indexer_strict\u001B[49m\u001B[43m(\u001B[49m\u001B[43mkey\u001B[49m\u001B[43m,\u001B[49m\u001B[43m \u001B[49m\u001B[38;5;124;43m\"\u001B[39;49m\u001B[38;5;124;43mcolumns\u001B[39;49m\u001B[38;5;124;43m\"\u001B[39;49m\u001B[43m)\u001B[49m[\u001B[38;5;241m1\u001B[39m]\n\u001B[0;32m   3513\u001B[0m \u001B[38;5;66;03m# take() does not accept boolean indexers\u001B[39;00m\n\u001B[0;32m   3514\u001B[0m \u001B[38;5;28;01mif\u001B[39;00m \u001B[38;5;28mgetattr\u001B[39m(indexer, \u001B[38;5;124m\"\u001B[39m\u001B[38;5;124mdtype\u001B[39m\u001B[38;5;124m\"\u001B[39m, \u001B[38;5;28;01mNone\u001B[39;00m) \u001B[38;5;241m==\u001B[39m \u001B[38;5;28mbool\u001B[39m:\n",
      "File \u001B[1;32mD:\\anaconda3\\envs\\pythonProject1\\lib\\site-packages\\pandas\\core\\indexes\\base.py:5782\u001B[0m, in \u001B[0;36mIndex._get_indexer_strict\u001B[1;34m(self, key, axis_name)\u001B[0m\n\u001B[0;32m   5779\u001B[0m \u001B[38;5;28;01melse\u001B[39;00m:\n\u001B[0;32m   5780\u001B[0m     keyarr, indexer, new_indexer \u001B[38;5;241m=\u001B[39m \u001B[38;5;28mself\u001B[39m\u001B[38;5;241m.\u001B[39m_reindex_non_unique(keyarr)\n\u001B[1;32m-> 5782\u001B[0m \u001B[38;5;28;43mself\u001B[39;49m\u001B[38;5;241;43m.\u001B[39;49m\u001B[43m_raise_if_missing\u001B[49m\u001B[43m(\u001B[49m\u001B[43mkeyarr\u001B[49m\u001B[43m,\u001B[49m\u001B[43m \u001B[49m\u001B[43mindexer\u001B[49m\u001B[43m,\u001B[49m\u001B[43m \u001B[49m\u001B[43maxis_name\u001B[49m\u001B[43m)\u001B[49m\n\u001B[0;32m   5784\u001B[0m keyarr \u001B[38;5;241m=\u001B[39m \u001B[38;5;28mself\u001B[39m\u001B[38;5;241m.\u001B[39mtake(indexer)\n\u001B[0;32m   5785\u001B[0m \u001B[38;5;28;01mif\u001B[39;00m \u001B[38;5;28misinstance\u001B[39m(key, Index):\n\u001B[0;32m   5786\u001B[0m     \u001B[38;5;66;03m# GH 42790 - Preserve name from an Index\u001B[39;00m\n",
      "File \u001B[1;32mD:\\anaconda3\\envs\\pythonProject1\\lib\\site-packages\\pandas\\core\\indexes\\base.py:5842\u001B[0m, in \u001B[0;36mIndex._raise_if_missing\u001B[1;34m(self, key, indexer, axis_name)\u001B[0m\n\u001B[0;32m   5840\u001B[0m     \u001B[38;5;28;01mif\u001B[39;00m use_interval_msg:\n\u001B[0;32m   5841\u001B[0m         key \u001B[38;5;241m=\u001B[39m \u001B[38;5;28mlist\u001B[39m(key)\n\u001B[1;32m-> 5842\u001B[0m     \u001B[38;5;28;01mraise\u001B[39;00m \u001B[38;5;167;01mKeyError\u001B[39;00m(\u001B[38;5;124mf\u001B[39m\u001B[38;5;124m\"\u001B[39m\u001B[38;5;124mNone of [\u001B[39m\u001B[38;5;132;01m{\u001B[39;00mkey\u001B[38;5;132;01m}\u001B[39;00m\u001B[38;5;124m] are in the [\u001B[39m\u001B[38;5;132;01m{\u001B[39;00maxis_name\u001B[38;5;132;01m}\u001B[39;00m\u001B[38;5;124m]\u001B[39m\u001B[38;5;124m\"\u001B[39m)\n\u001B[0;32m   5844\u001B[0m not_found \u001B[38;5;241m=\u001B[39m \u001B[38;5;28mlist\u001B[39m(ensure_index(key)[missing_mask\u001B[38;5;241m.\u001B[39mnonzero()[\u001B[38;5;241m0\u001B[39m]]\u001B[38;5;241m.\u001B[39munique())\n\u001B[0;32m   5845\u001B[0m \u001B[38;5;28;01mraise\u001B[39;00m \u001B[38;5;167;01mKeyError\u001B[39;00m(\u001B[38;5;124mf\u001B[39m\u001B[38;5;124m\"\u001B[39m\u001B[38;5;132;01m{\u001B[39;00mnot_found\u001B[38;5;132;01m}\u001B[39;00m\u001B[38;5;124m not in index\u001B[39m\u001B[38;5;124m\"\u001B[39m)\n",
      "\u001B[1;31mKeyError\u001B[0m: \"None of [Int64Index([6, 3], dtype='int64')] are in the [columns]\""
     ]
    }
   ],
   "source": [
    "lol_dt[[6,3]]"
   ]
  }
 ],
 "metadata": {
  "kernelspec": {
   "display_name": "Python 3 (ipykernel)",
   "language": "python",
   "name": "python3"
  },
  "language_info": {
   "codemirror_mode": {
    "name": "ipython",
    "version": 3
   },
   "file_extension": ".py",
   "mimetype": "text/x-python",
   "name": "python",
   "nbconvert_exporter": "python",
   "pygments_lexer": "ipython3",
   "version": "3.8.12"
  }
 },
 "nbformat": 4,
 "nbformat_minor": 5
}